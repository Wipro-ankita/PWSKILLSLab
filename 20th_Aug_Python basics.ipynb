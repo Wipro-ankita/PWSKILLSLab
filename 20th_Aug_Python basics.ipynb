{
 "cells": [
  {
   "cell_type": "code",
   "execution_count": 1,
   "id": "844dc58f-40c2-462e-9523-fa26a9e83d60",
   "metadata": {},
   "outputs": [
    {
     "name": "stdin",
     "output_type": "stream",
     "text": [
      "Enter String ANKITA\n"
     ]
    },
    {
     "name": "stdout",
     "output_type": "stream",
     "text": [
      "Reverse String is ATIKNA\n"
     ]
    }
   ],
   "source": [
    "#1. Write a program to reverse a string.\n",
    "str1 = input('Enter String')\n",
    "str2 = str1[::-1]\n",
    "print('Reverse String is ' +str2)\n"
   ]
  },
  {
   "cell_type": "code",
   "execution_count": 2,
   "id": "05c11929-2c6a-42b3-be21-08647716ba00",
   "metadata": {},
   "outputs": [
    {
     "name": "stdin",
     "output_type": "stream",
     "text": [
      "Enter String PAAP\n"
     ]
    },
    {
     "name": "stdout",
     "output_type": "stream",
     "text": [
      "String is Palindrom\n"
     ]
    }
   ],
   "source": [
    "#2. Check if a string is a palindrome.\n",
    "str1 = input('Enter String')\n",
    "str1 = str1.lower()\n",
    "str2 = str1[::-1]\n",
    "if (str1 == str2):\n",
    "    print('String is Palindrom')\n",
    "else:\n",
    "    print('String is not Palindrom')\n"
   ]
  },
  {
   "cell_type": "code",
   "execution_count": 3,
   "id": "9c7262de-990f-432e-ad75-cc718c26c9f5",
   "metadata": {},
   "outputs": [
    {
     "name": "stdin",
     "output_type": "stream",
     "text": [
      "Enter String Ankita\n"
     ]
    },
    {
     "name": "stdout",
     "output_type": "stream",
     "text": [
      "String in upper case is ANKITA\n"
     ]
    }
   ],
   "source": [
    "#3. Convert a string to uppercase.\n",
    "str1 = input('Enter String')\n",
    "str1 = str1.upper()\n",
    "print('String in upper case is ' +str1)"
   ]
  },
  {
   "cell_type": "code",
   "execution_count": 4,
   "id": "44c1d516-f4fe-4eca-9b66-c554c54dae33",
   "metadata": {},
   "outputs": [
    {
     "name": "stdin",
     "output_type": "stream",
     "text": [
      "Enter String ANKITA\n"
     ]
    },
    {
     "name": "stdout",
     "output_type": "stream",
     "text": [
      "String in lower case is ankita\n"
     ]
    }
   ],
   "source": [
    "#4. Convert a string to lowercase.\n",
    "str1 = input('Enter String')\n",
    "str1 = str1.lower()\n",
    "print('String in lower case is ' +str1)"
   ]
  },
  {
   "cell_type": "code",
   "execution_count": 5,
   "id": "202a3600-b27b-4171-8d9d-eec5aa609d8f",
   "metadata": {},
   "outputs": [
    {
     "name": "stdout",
     "output_type": "stream",
     "text": [
      "Number of vowels: 7\n"
     ]
    }
   ],
   "source": [
    "#5. Count the number of vowels in a string.\n",
    "def count_vowels(string):\n",
    "    vowel_count = 0\n",
    "    string = string.lower()\n",
    "    vowels = set(\"aeiou\")\n",
    "    for char in string:\n",
    "        if char in vowels:\n",
    "            vowel_count += 1\n",
    "    return vowel_count\n",
    "\n",
    "input_string = \"Hello, how are you?\"\n",
    "result = count_vowels(input_string)\n",
    "print(\"Number of vowels:\", result)"
   ]
  },
  {
   "cell_type": "code",
   "execution_count": 6,
   "id": "80313f70-9ddd-4706-b9ee-820c8d71cee1",
   "metadata": {},
   "outputs": [
    {
     "name": "stdout",
     "output_type": "stream",
     "text": [
      "Number of consonant: 20\n"
     ]
    }
   ],
   "source": [
    "#6. Count the number of consonants in a string.\n",
    "def count_consonant(string):\n",
    "    count = 0\n",
    "    string = string.lower()\n",
    "    consonant = set(\"bcdfghjklmnpqrstvwxyzBCDFGHJKLMNPQRSTVWXYZ\")\n",
    "    for char in string:\n",
    "        if char in consonant:\n",
    "            count += 1\n",
    "    return count\n",
    "\n",
    "input_string = \"I am learning Data Science in PWSKILLS\"\n",
    "result = count_consonant(input_string)\n",
    "print(\"Number of consonant:\", result)"
   ]
  },
  {
   "cell_type": "code",
   "execution_count": 7,
   "id": "66e257e9-ccf2-413d-91a6-aaf36bee273c",
   "metadata": {},
   "outputs": [],
   "source": [
    "#7. Remove all whitespaces from a string.\n",
    "str1 = 'My Name is Khan'\n"
   ]
  },
  {
   "cell_type": "code",
   "execution_count": null,
   "id": "f6fb6d16-7c55-4fb2-81f4-45826a4188f7",
   "metadata": {},
   "outputs": [],
   "source": []
  }
 ],
 "metadata": {
  "kernelspec": {
   "display_name": "Python 3 (ipykernel)",
   "language": "python",
   "name": "python3"
  },
  "language_info": {
   "codemirror_mode": {
    "name": "ipython",
    "version": 3
   },
   "file_extension": ".py",
   "mimetype": "text/x-python",
   "name": "python",
   "nbconvert_exporter": "python",
   "pygments_lexer": "ipython3",
   "version": "3.10.8"
  }
 },
 "nbformat": 4,
 "nbformat_minor": 5
}
